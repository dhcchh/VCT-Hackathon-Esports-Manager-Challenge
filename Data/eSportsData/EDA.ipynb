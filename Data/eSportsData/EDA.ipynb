{
 "cells": [
  {
   "cell_type": "code",
   "execution_count": 2,
   "metadata": {},
   "outputs": [
    {
     "name": "stdout",
     "output_type": "stream",
     "text": [
      "Index(['id', 'handle', 'first_name', 'last_name', 'status', 'photo_url',\n",
      "       'home_team_id', 'created_at', 'updated_at'],\n",
      "      dtype='object')\n"
     ]
    }
   ],
   "source": [
    "# Import necessary libraries\n",
    "import pandas as pd\n",
    "import matplotlib.pyplot as plt\n",
    "import seaborn as sns\n",
    "\n",
    "# Load the player performance and team performance datasets\n",
    "player_performance = pd.read_csv('./Data/eSportsData/player_performance.csv')\n",
    "team_performance = pd.read_csv('./Data/eSportsData/team_performance.csv')\n",
    "\n",
    "# Display the first few rows of each dataset\n",
    "print(\"Player Performance Data:\")\n",
    "display(player_performance.head())\n",
    "\n",
    "print(\"Team Performance Data:\")\n",
    "display(team_performance.head())"
   ]
  }
 ],
 "metadata": {
  "kernelspec": {
   "display_name": "base",
   "language": "python",
   "name": "python3"
  },
  "language_info": {
   "codemirror_mode": {
    "name": "ipython",
    "version": 3
   },
   "file_extension": ".py",
   "mimetype": "text/x-python",
   "name": "python",
   "nbconvert_exporter": "python",
   "pygments_lexer": "ipython3",
   "version": "3.9.13"
  },
  "orig_nbformat": 4
 },
 "nbformat": 4,
 "nbformat_minor": 2
}
